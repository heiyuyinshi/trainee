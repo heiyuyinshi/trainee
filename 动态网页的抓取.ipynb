{
 "cells": [
  {
   "cell_type": "code",
   "execution_count": 1,
   "metadata": {},
   "outputs": [
    {
     "name": "stdout",
     "output_type": "stream",
     "text": [
      "「独家V观」习近平的中国邀请\n",
      "「央视快评」将世界经济大合唱越奏越响亮\n",
      "数说进博会：中国市场 世界机遇\n",
      "女子5年前买的新房，如今进去变成这样，把她直接吓出汗\n",
      "如何识别庄家横盘出货还是底部吸筹建仓？一测便知！\n",
      "前央视主播李小萌：因女儿离职，又因女儿回归\n",
      "姑娘突然发现“家里有矿”却都是弟弟的 越想越生气\n",
      "凌晨高速事故现场，曾是退伍军人的他以身示警\n",
      "世界最大，江西又双叒叕发现了一个超级大矿！\n",
      "燃油宝到底能不能用？真的会让汽车省油吗？维修工说出实情\n"
     ]
    }
   ],
   "source": [
    "from selenium import webdriver\n",
    "import time\n",
    "\n",
    "driver = webdriver.Chrome(executable_path='D:\\chromedriver_win32\\chromedriver')\n",
    "driver.get(\"https://www.toutiao.com/\") # 抓取今日头条首页新闻标题\n",
    "for element in driver.find_elements_by_class_name('title-box'):\n",
    "    print(element.text)\n",
    "driver.close()"
   ]
  },
  {
   "cell_type": "code",
   "execution_count": 2,
   "metadata": {},
   "outputs": [
    {
     "name": "stdout",
     "output_type": "stream",
     "text": [
      "166\n"
     ]
    }
   ],
   "source": [
    "from selenium import webdriver\n",
    "import time\n",
    "# 抓取新浪新闻的参与个数\n",
    "driver = webdriver.Chrome(executable_path='D:\\chromedriver_win32\\chromedriver')\n",
    "driver.get(\"https://finance.sina.com.cn/roll/2018-11-06/doc-ihmutuea7653989.shtml\")\n",
    "# xpath 方式找到评论个数标签\n",
    "print(driver.find_element_by_xpath('//span[@data-sudaclick=\"content_commentbutton_i\"]').text)"
   ]
  },
  {
   "cell_type": "code",
   "execution_count": null,
   "metadata": {},
   "outputs": [],
   "source": []
  }
 ],
 "metadata": {
  "kernelspec": {
   "display_name": "Python 3",
   "language": "python",
   "name": "python3"
  },
  "language_info": {
   "codemirror_mode": {
    "name": "ipython",
    "version": 3
   },
   "file_extension": ".py",
   "mimetype": "text/x-python",
   "name": "python",
   "nbconvert_exporter": "python",
   "pygments_lexer": "ipython3",
   "version": "3.7.0"
  }
 },
 "nbformat": 4,
 "nbformat_minor": 2
}
